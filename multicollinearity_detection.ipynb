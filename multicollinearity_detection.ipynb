{
 "cells": [
  {
   "cell_type": "markdown",
   "metadata": {},
   "source": [
    " # Multicollinearity detection"
   ]
  },
  {
   "cell_type": "markdown",
   "metadata": {},
   "source": [
    "What is it?\n",
    "- occurs when independent variables (X1, X2, ... Xn) are intercorrelated instead of independent\n",
    "- colliniearity occurs if only `two` predictors are correlated, therefore multi if more than two"
   ]
  }
 ],
 "metadata": {
  "language_info": {
   "name": "python"
  }
 },
 "nbformat": 4,
 "nbformat_minor": 2
}
